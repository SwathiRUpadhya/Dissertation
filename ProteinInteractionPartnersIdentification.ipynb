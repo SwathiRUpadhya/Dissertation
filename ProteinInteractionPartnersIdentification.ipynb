{
 "cells": [
  {
   "cell_type": "code",
   "execution_count": 10,
   "metadata": {},
   "outputs": [],
   "source": [
    "import requests\n",
    "import json, os\n",
    "import pandas as pd"
   ]
  },
  {
   "cell_type": "code",
   "execution_count": 11,
   "metadata": {},
   "outputs": [],
   "source": [
    "string_api_url = \"https://string-db.org/api\"\n",
    "output_format = \"json\"\n",
    "method = \"interaction_partners\"\n",
    "limit = 1000\n",
    "protein_details = []"
   ]
  },
  {
   "cell_type": "code",
   "execution_count": 12,
   "metadata": {},
   "outputs": [],
   "source": [
    "genes = [\"RB1\",\"CDH1\",\"PTEN\",\"BRCA2\",\"CDKN2A\",\"TP53\",\"CTNNB1\",\n",
    "         \"CCNE1\",\"CCND1\", \"CDH2\", \"CDH3\", \"ERBB2\", \"ERBB3\"]\n",
    "species = \"9606\""
   ]
  },
  {
   "cell_type": "code",
   "execution_count": 13,
   "metadata": {},
   "outputs": [],
   "source": [
    "temp_json_file=\"ProteinInteractions.json\"\n",
    "protein_interaction_partners_file = \"Preprocessed_Data/ProteinInteractionPartners.csv\""
   ]
  },
  {
   "cell_type": "code",
   "execution_count": 14,
   "metadata": {},
   "outputs": [
    {
     "name": "stdout",
     "output_type": "stream",
     "text": [
      "https://string-db.org/api/json/interaction_partners?identifiers=RB1%0dCDH1%0dPTEN%0dBRCA2%0dCDKN2A%0dTP53%0dCTNNB1%0dCCNE1%0dCCND1%0dCDH2%0dCDH3%0dERBB2%0dERBB3&species=9606&limit=1000\n"
     ]
    }
   ],
   "source": [
    "request_url = string_api_url + \"/\" + output_format + \"/\" + method + \"?\"\n",
    "request_url += \"identifiers=%s\" % \"%0d\".join(genes)\n",
    "request_url += \"&\" + \"species=\" + species\n",
    "request_url += \"&\" + \"limit=\" + str(limit)\n",
    "print(request_url)\n",
    "response = requests.get(request_url)\n",
    "protein_details.append(response.json())"
   ]
  },
  {
   "cell_type": "code",
   "execution_count": 15,
   "metadata": {},
   "outputs": [],
   "source": [
    "with open(temp_json_file, 'w') as file:\n",
    "    json.dump(protein_details, file, indent=4)"
   ]
  },
  {
   "cell_type": "code",
   "execution_count": 16,
   "metadata": {},
   "outputs": [],
   "source": [
    "#Loading the movie details on to a data frame\n",
    "with open(temp_json_file, \"r\") as file:\n",
    "    data = json.load(file)\n",
    "os.remove(temp_json_file)"
   ]
  },
  {
   "cell_type": "code",
   "execution_count": 17,
   "metadata": {},
   "outputs": [],
   "source": [
    "combined_lists = data[0]"
   ]
  },
  {
   "cell_type": "code",
   "execution_count": 18,
   "metadata": {},
   "outputs": [
    {
     "data": {
      "text/html": [
       "<div>\n",
       "<style scoped>\n",
       "    .dataframe tbody tr th:only-of-type {\n",
       "        vertical-align: middle;\n",
       "    }\n",
       "\n",
       "    .dataframe tbody tr th {\n",
       "        vertical-align: top;\n",
       "    }\n",
       "\n",
       "    .dataframe thead th {\n",
       "        text-align: right;\n",
       "    }\n",
       "</style>\n",
       "<table border=\"1\" class=\"dataframe\">\n",
       "  <thead>\n",
       "    <tr style=\"text-align: right;\">\n",
       "      <th></th>\n",
       "      <th>ascore</th>\n",
       "      <th>dscore</th>\n",
       "      <th>escore</th>\n",
       "      <th>fscore</th>\n",
       "      <th>ncbiTaxonId</th>\n",
       "      <th>nscore</th>\n",
       "      <th>preferredName_A</th>\n",
       "      <th>preferredName_B</th>\n",
       "      <th>pscore</th>\n",
       "      <th>score</th>\n",
       "      <th>stringId_A</th>\n",
       "      <th>stringId_B</th>\n",
       "      <th>tscore</th>\n",
       "    </tr>\n",
       "  </thead>\n",
       "  <tbody>\n",
       "    <tr>\n",
       "      <th>0</th>\n",
       "      <td>0.000</td>\n",
       "      <td>0.0</td>\n",
       "      <td>0.456</td>\n",
       "      <td>0.0</td>\n",
       "      <td>9606</td>\n",
       "      <td>0.0</td>\n",
       "      <td>CCND1</td>\n",
       "      <td>RALA</td>\n",
       "      <td>0.0</td>\n",
       "      <td>0.559</td>\n",
       "      <td>ENSP00000227507</td>\n",
       "      <td>ENSP00000005257</td>\n",
       "      <td>0.223</td>\n",
       "    </tr>\n",
       "    <tr>\n",
       "      <th>1</th>\n",
       "      <td>0.000</td>\n",
       "      <td>0.0</td>\n",
       "      <td>0.000</td>\n",
       "      <td>0.0</td>\n",
       "      <td>9606</td>\n",
       "      <td>0.0</td>\n",
       "      <td>CCND1</td>\n",
       "      <td>DVL2</td>\n",
       "      <td>0.0</td>\n",
       "      <td>0.493</td>\n",
       "      <td>ENSP00000227507</td>\n",
       "      <td>ENSP00000005340</td>\n",
       "      <td>0.493</td>\n",
       "    </tr>\n",
       "    <tr>\n",
       "      <th>2</th>\n",
       "      <td>0.000</td>\n",
       "      <td>0.0</td>\n",
       "      <td>0.000</td>\n",
       "      <td>0.0</td>\n",
       "      <td>9606</td>\n",
       "      <td>0.0</td>\n",
       "      <td>CCND1</td>\n",
       "      <td>CDH17</td>\n",
       "      <td>0.0</td>\n",
       "      <td>0.530</td>\n",
       "      <td>ENSP00000227507</td>\n",
       "      <td>ENSP00000027335</td>\n",
       "      <td>0.530</td>\n",
       "    </tr>\n",
       "    <tr>\n",
       "      <th>3</th>\n",
       "      <td>0.061</td>\n",
       "      <td>0.9</td>\n",
       "      <td>0.000</td>\n",
       "      <td>0.0</td>\n",
       "      <td>9606</td>\n",
       "      <td>0.0</td>\n",
       "      <td>CCND1</td>\n",
       "      <td>PSMA4</td>\n",
       "      <td>0.0</td>\n",
       "      <td>0.902</td>\n",
       "      <td>ENSP00000227507</td>\n",
       "      <td>ENSP00000044462</td>\n",
       "      <td>0.046</td>\n",
       "    </tr>\n",
       "    <tr>\n",
       "      <th>4</th>\n",
       "      <td>0.000</td>\n",
       "      <td>0.0</td>\n",
       "      <td>0.000</td>\n",
       "      <td>0.0</td>\n",
       "      <td>9606</td>\n",
       "      <td>0.0</td>\n",
       "      <td>CCND1</td>\n",
       "      <td>CD22</td>\n",
       "      <td>0.0</td>\n",
       "      <td>0.400</td>\n",
       "      <td>ENSP00000227507</td>\n",
       "      <td>ENSP00000085219</td>\n",
       "      <td>0.400</td>\n",
       "    </tr>\n",
       "  </tbody>\n",
       "</table>\n",
       "</div>"
      ],
      "text/plain": [
       "   ascore  dscore  escore  fscore ncbiTaxonId  nscore preferredName_A  \\\n",
       "0   0.000     0.0   0.456     0.0        9606     0.0           CCND1   \n",
       "1   0.000     0.0   0.000     0.0        9606     0.0           CCND1   \n",
       "2   0.000     0.0   0.000     0.0        9606     0.0           CCND1   \n",
       "3   0.061     0.9   0.000     0.0        9606     0.0           CCND1   \n",
       "4   0.000     0.0   0.000     0.0        9606     0.0           CCND1   \n",
       "\n",
       "  preferredName_B  pscore  score       stringId_A       stringId_B  tscore  \n",
       "0            RALA     0.0  0.559  ENSP00000227507  ENSP00000005257   0.223  \n",
       "1            DVL2     0.0  0.493  ENSP00000227507  ENSP00000005340   0.493  \n",
       "2           CDH17     0.0  0.530  ENSP00000227507  ENSP00000027335   0.530  \n",
       "3           PSMA4     0.0  0.902  ENSP00000227507  ENSP00000044462   0.046  \n",
       "4            CD22     0.0  0.400  ENSP00000227507  ENSP00000085219   0.400  "
      ]
     },
     "execution_count": 18,
     "metadata": {},
     "output_type": "execute_result"
    }
   ],
   "source": [
    "protein_partners = pd.DataFrame.from_dict(combined_lists)\n",
    "protein_partners.head()"
   ]
  },
  {
   "cell_type": "code",
   "execution_count": 19,
   "metadata": {},
   "outputs": [],
   "source": [
    "protein_partners.to_csv(protein_interaction_partners_file)"
   ]
  }
 ],
 "metadata": {
  "kernelspec": {
   "display_name": "Python 3",
   "language": "python",
   "name": "python3"
  },
  "language_info": {
   "codemirror_mode": {
    "name": "ipython",
    "version": 3
   },
   "file_extension": ".py",
   "mimetype": "text/x-python",
   "name": "python",
   "nbconvert_exporter": "python",
   "pygments_lexer": "ipython3",
   "version": "3.6.8"
  }
 },
 "nbformat": 4,
 "nbformat_minor": 2
}
